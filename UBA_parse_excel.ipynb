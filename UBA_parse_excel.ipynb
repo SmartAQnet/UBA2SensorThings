{
 "cells": [
  {
   "cell_type": "code",
   "execution_count": 57,
   "metadata": {},
   "outputs": [],
   "source": [
    "import requests, json\n",
    "import pandas as pd\n",
    "import numpy as np\n",
    "import calendar\n",
    "from datetime import datetime\n",
    "import time\n",
    "import sys\n",
    "import glob"
   ]
  },
  {
   "cell_type": "code",
   "execution_count": 58,
   "metadata": {},
   "outputs": [],
   "source": [
    "#input parameters\n",
    "\n",
    "feature='PM10' #the feature needs to be added in the list of replacements with its corresponding code\n",
    "thingcode='DEBY006' #stationID\n",
    "url = 'http://smartaqnet-dev.teco.edu:8080/FROST-Server/v1.0' #post where to\n",
    "intervalllength = 'PT1H'"
   ]
  },
  {
   "cell_type": "code",
   "execution_count": 59,
   "metadata": {},
   "outputs": [
    {
     "name": "stdout",
     "output_type": "stream",
     "text": [
      "Loading file DEBY006_Particulate matter - PM10, first measurement_2016-12-31_2018-12-31.xlsx...\n"
     ]
    }
   ],
   "source": [
    "#read data and auxiliary functions\n",
    "\n",
    "#get the component code for a feature as long as it is listed in the listofreplacements\n",
    "def componentcode(feat):\n",
    "    for rep in listofreplacements:\n",
    "        if rep[0]==feature:\n",
    "            return(rep[1])\n",
    "\n",
    "\n",
    "#get the first file matching thingcode and feature e.g. DEBY007_PM10_*.xlsx\n",
    "filename = glob.glob(str(thingcode) + \"*\" + str(feature) + \"*.xlsx\")[0]\n",
    "print(\"Loading file \" + str(filename) + \"...\")\n",
    "datafile=pd.read_excel(str(filename),0)\n",
    "datafilemeta=pd.read_excel(str(filename),'id')\n",
    "\n",
    "#clear all nullresults (False) before the first measurement\n",
    "nullresults=0\n",
    "for i in range(len(list(datafile[\"interval_start_time\"]))):\n",
    "    if datafile[feature][i]==0:\n",
    "        nullresults+=1\n",
    "    else:\n",
    "        break\n",
    "\n",
    "#read file again but skip the nullresults\n",
    "datafile=pd.read_excel(str(filename),skiprows=range(1,nullresults+1))\n",
    "        \n",
    "#for displaying the elapsed time\n",
    "starttime=time.time()\n",
    "\n",
    "#------------------------------------------------------------------------------------\n",
    "#functions for time conversion\n",
    "def readtime(sec):\n",
    "    m, s = divmod(sec, 60)\n",
    "    h, m = divmod(m, 60)\n",
    "    return(str(int(h)) + \" hours \" + str(int(m)) + \" minutes \" + str(int(s)) + \" seconds\")\n",
    "\n",
    "def tounixtime(datetime_input):\n",
    "    return(calendar.timegm(datetime_input.utctimetuple()))\n",
    "\n",
    "def todatetimeformat(utctime):\n",
    "    year=int(utctime[0])*1000 + int(utctime[1])*100 + int(utctime[2])*10 + int(utctime[3])\n",
    "    month=int(utctime[5])*10 + int(utctime[6])\n",
    "    day=int(utctime[8])*10 + int(utctime[9])\n",
    "    hr=int(utctime[11])*10 + int(utctime[12])\n",
    "    minute=int(utctime[14])*10 + int(utctime[15])\n",
    "    second=int(utctime[17])*10 + int(utctime[18])\n",
    "    millisecond=int(utctime[20])*100 + int(utctime[21])*10 + int(utctime[22])   \n",
    "    return(datetime(year,month,day,hr,minute,second,millisecond))\n",
    "\n",
    "def toutcformat(datetime_input):\n",
    "    tstr=str(datetime_input)\n",
    "    year=tstr[0]+tstr[1]+tstr[2]+tstr[3]\n",
    "    month=tstr[5]+tstr[6]\n",
    "    day=tstr[8]+tstr[9]\n",
    "    \n",
    "    try:\n",
    "        if type(int(tstr[11]+tstr[12]))==int:\n",
    "            hour=str(tstr[11]+tstr[12])\n",
    "    except:\n",
    "        hour='00'             #no hours given       \n",
    "    \n",
    "    try:\n",
    "        if type(int(tstr[14]+tstr[15]))==int:\n",
    "            minute=str(tstr[14]+tstr[15])\n",
    "    except:\n",
    "        minute='00'             #no minutes given\n",
    "\n",
    "    try:\n",
    "        if type(int(tstr[17]+tstr[18]))==int:\n",
    "            second=str(tstr[17]+tstr[18])\n",
    "    except:\n",
    "        second='00'             #no seconds given\n",
    "        \n",
    "    try:\n",
    "        if type(int(tstr[20]+tstr[21]+tstr[22]))==int:\n",
    "            millisecond=str(tstr[20]+tstr[21]+tstr[22])\n",
    "    except:\n",
    "        millisecond='000'       #no milliseconds given\n",
    "\n",
    "\n",
    "        \n",
    "    utctime=year + '-' + month + '-' + day + 'T' + hour + ':' + minute + ':' + second + '.' + millisecond + 'Z'\n",
    "    return utctime    \n",
    "\n",
    "currentyear=str(datetime.utcnow())[0:4]"
   ]
  },
  {
   "cell_type": "code",
   "execution_count": 60,
   "metadata": {},
   "outputs": [
    {
     "name": "stdout",
     "output_type": "stream",
     "text": [
      "Uploading Observations for Datastream iot.id: saqn:d:lfu.bayern.de:200002:deby006:particulate_matter_-_pm10,_first_measurement\n",
      "Finshed! Successfully uploaded 17544 Observations in 0 hours 8 minutes 22 seconds seconds.  \r"
     ]
    }
   ],
   "source": [
    "\n",
    "#get datastream id\n",
    "#datastreamID=\"saqn:d:\" + str(repnetcodebyurl(file[\"network_code\"][thingnr])) + \":\" + str(list(df_stationparameters[\"measurement_start_date\"][thingcode])[sensnr])[0:6] + \":\" + thingcode + \":\" + feature.replace(\" \", \"_\")\n",
    "datastreamID=datafilemeta[\"datastreamID\"][0]\n",
    "\n",
    "\n",
    "print(\"Uploading Observations for Datastream iot.id: \" + datastreamID)\n",
    "\n",
    "#------------------------------------------------------------------------------------\n",
    "\n",
    "\n",
    "for i in range(len(list(datafile[\"interval_start_time\"]))): #eleganter ist hier feature zu nehmen aber ist egal\n",
    "    #phenotime = toutcformat(datetime.utcfromtimestamp(tounixtime(begin)+scopesec*i))\n",
    "    observation = {\n",
    "    \"phenomenonTime\" : str(datafile[\"interval_start_time\"][i]) + \"/\" + str(intervalllength), \n",
    "    \"result\" : float(datafile[str(feature)][i]),\n",
    "    \"Datastream\":{\"@iot.id\": str(datastreamID)},\n",
    "    \"@iot.id\": str(datastreamID) + \":\" + str(datafile[\"interval_start_time\"][i]) + str(intervalllength)\n",
    "    }\n",
    "\n",
    "    requests.post(url + '/Observations', json.dumps(observation))\n",
    "\n",
    "    #estimating time remaining for parsing\n",
    "    timeelapsed=time.time()-starttime\n",
    "    timeelapsedread=readtime(((len(list(datafile[\"interval_start_time\"]))/(i+1))-1)*int(timeelapsed+1))\n",
    "    sys.stdout.write('Uploaded ' + str(i) + ' out of ' + str(len(list(datafile[\"interval_start_time\"]))) + ' Observations. Estimating ' + timeelapsedread + ' remaining \\r')\n",
    "\n",
    "\n",
    "endtime=time.time()\n",
    "timeelapsed=endtime-starttime\n",
    "    \n",
    "sys.stdout.write('Finshed! Successfully uploaded ' + str(len(list(datafile[\"interval_start_time\"]))) + ' Observations in ' + str(readtime(int(timeelapsed))) + ' seconds. \\r')"
   ]
  },
  {
   "cell_type": "code",
   "execution_count": 61,
   "metadata": {},
   "outputs": [],
   "source": [
    "#requests.delete(url + \"/Datastreams('saqn:d:lfu.bayern.de:200002:deby006:particulate_matter_-_pm10,_first_measurement')\")\n",
    "#requests.delete(url + \"/Datastreams('saqn:d:lfu.bayern.de:201412:deby007:particulate_matter_-_pm10,_first_measurement')\")\n",
    "#requests.delete(url + \"/Datastreams('saqn:d:lfu.bayern.de:200008:deby099:particulate_matter_-_pm10,_first_measurement')\")\n",
    "#requests.delete(url + \"/Datastreams('saqn:d:lfu.bayern.de:200308:deby110:particulate_matter_-_pm10,_first_measurement')\")"
   ]
  },
  {
   "cell_type": "code",
   "execution_count": null,
   "metadata": {},
   "outputs": [],
   "source": []
  }
 ],
 "metadata": {
  "kernelspec": {
   "display_name": "Python 3",
   "language": "python",
   "name": "python3"
  },
  "language_info": {
   "codemirror_mode": {
    "name": "ipython",
    "version": 3
   },
   "file_extension": ".py",
   "mimetype": "text/x-python",
   "name": "python",
   "nbconvert_exporter": "python",
   "pygments_lexer": "ipython3",
   "version": "3.7.1"
  }
 },
 "nbformat": 4,
 "nbformat_minor": 2
}
