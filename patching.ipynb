{
 "cells": [
  {
   "cell_type": "code",
   "execution_count": 1,
   "metadata": {},
   "outputs": [],
   "source": [
    "import requests, json\n",
    "import pandas as pd\n",
    "from pandas import ExcelWriter\n",
    "from pandas import ExcelFile\n",
    "import sys\n",
    "import time\n",
    "import requests, json\n",
    "import numpy as np\n",
    "import calendar\n",
    "from datetime import datetime\n",
    "import random\n",
    "import glob"
   ]
  },
  {
   "cell_type": "code",
   "execution_count": 2,
   "metadata": {},
   "outputs": [],
   "source": [
    "#converts numpy types to python types, otherwise json conversion produces an error. call json.dumps(***, cls=MyEncoder)\n",
    "class MyEncoder(json.JSONEncoder):\n",
    "    def default(self, obj):\n",
    "        if isinstance(obj, np.integer):\n",
    "            return int(obj)\n",
    "        elif isinstance(obj, np.floating):\n",
    "            return float(obj)\n",
    "        elif isinstance(obj, np.ndarray):\n",
    "            return obj.tolist()\n",
    "        else:\n",
    "            return super(MyEncoder, self).default(obj)\n",
    "\n",
    "\n",
    "# returns strings in the conventional format for iot.ids\n",
    "def idstr(idinput):\n",
    "    return(str(idinput).lower().replace(\" \", \"_\").replace(\"/\", \"_\").replace(\"ä\", \"ae\").replace(\"ö\", \"oe\").replace(\"ü\", \"ue\").replace(\"ß\", \"ss\"))\n",
    "\n",
    "\n",
    "# returns the first 7 digits of the sha1 hash of the input string\n",
    "def hashfunc(inputstring, printme):\n",
    "    returnhash= hashlib.sha1(bytes(str(inputstring), 'utf-8')).hexdigest()[0:7]\n",
    "    if printme == True:\n",
    "        print(\"Converting '\" + str(inputstring) + \"' to hash '\" + str(returnhash) +\"'\")\n",
    "    return(returnhash)\n",
    "\n",
    "url=\"http://smartaqnet-dev.teco.edu/v1.0\""
   ]
  },
  {
   "cell_type": "code",
   "execution_count": 36,
   "metadata": {},
   "outputs": [
    {
     "data": {
      "text/plain": [
       "<Response [200]>"
      ]
     },
     "execution_count": 36,
     "metadata": {},
     "output_type": "execute_result"
    }
   ],
   "source": [
    "#requests.delete(\"http://smartaqnet-dev.teco.edu:8080/FROST-Server/v1.0/Things\")\n",
    "#requests.delete(\"http://smartaqnet-dev.teco.edu:8080/FROST-Server/v1.0/Sensors\")\n",
    "#requests.delete(\"http://smartaqnet-dev.teco.edu:8080/FROST-Server/v1.0/Locations\")\n",
    "#requests.delete(\"http://smartaqnet-dev.teco.edu:8080/FROST-Server/v1.0/ObservedProperties\")\n",
    "#requests.delete(\"http://smartaqnet-dev.teco.edu:8080/FROST-Server/v1.0/FeaturesOfInterest\")\n",
    "#requests.delete(\"http://smartaqnet-dev.teco.edu:8080/FROST-Server/v1.0/Datastreams\")\n",
    "#requests.delete(\"http://smartaqnet-dev.teco.edu:8080/FROST-Server/v1.0/Observations\")"
   ]
  },
  {
   "cell_type": "markdown",
   "metadata": {},
   "source": [
    "## Patching Template"
   ]
  },
  {
   "cell_type": "code",
   "execution_count": 3,
   "metadata": {},
   "outputs": [],
   "source": [
    "# Things, Datasteams, Locations, ...\n",
    "category_to_patch = \"Things\"\n",
    "\n",
    "#saqn:...\n",
    "entity_to_patch_id = \"saqn:t:d42cbb8\"\n"
   ]
  },
  {
   "cell_type": "code",
   "execution_count": 5,
   "metadata": {},
   "outputs": [
    {
     "data": {
      "text/plain": [
       "{'name': 'Station Augsburg/Königsplatz',\n",
       " 'description': 'A station measuring -Particulate air pollutants- -Gaseous air pollutants- -Pollutants in suspended particulate matter- -Pollutants in PM10- -Meteorological measurands-',\n",
       " 'properties': {'dem_status': 'M',\n",
       "  'station_code': 'DEBY006',\n",
       "  'station_local_code': 'DEBY006',\n",
       "  'station_name': 'Augsburg/Königsplatz',\n",
       "  'station_start_date': 19750101,\n",
       "  'station_end_date': 'nan',\n",
       "  'station_latitude_d': 48.364589,\n",
       "  'station_latitude_dms': '+048.21.52',\n",
       "  'station_longitude_d': 10.895029,\n",
       "  'station_longitude_dms': '+010.53.42',\n",
       "  'station_altitude': 492.0,\n",
       "  'type_of_station': 'traffic',\n",
       "  'station_type_of_area': 'urban',\n",
       "  'station_ozone_classification': 'urban',\n",
       "  'station_subcat_rural_background': 'unknown',\n",
       "  'network_code': 'DE007A',\n",
       "  'operator_url': 'lfu.bayern.de'},\n",
       " 'Datastreams@iot.navigationLink': \"https://smartaqnet-dev.teco.edu/v1.0/Things('saqn%3At%3Ad42cbb8')/Datastreams\",\n",
       " 'MultiDatastreams@iot.navigationLink': \"https://smartaqnet-dev.teco.edu/v1.0/Things('saqn%3At%3Ad42cbb8')/MultiDatastreams\",\n",
       " 'Locations@iot.navigationLink': \"https://smartaqnet-dev.teco.edu/v1.0/Things('saqn%3At%3Ad42cbb8')/Locations\",\n",
       " 'HistoricalLocations@iot.navigationLink': \"https://smartaqnet-dev.teco.edu/v1.0/Things('saqn%3At%3Ad42cbb8')/HistoricalLocations\",\n",
       " '@iot.id': 'saqn:t:d42cbb8',\n",
       " '@iot.selfLink': \"https://smartaqnet-dev.teco.edu/v1.0/Things('saqn%3At%3Ad42cbb8')\"}"
      ]
     },
     "execution_count": 5,
     "metadata": {},
     "output_type": "execute_result"
    }
   ],
   "source": [
    "#optional get request for template on what to patch\n",
    "query = \"\"\n",
    "\n",
    "loaded_data = json.loads(requests.get(\"http://smartaqnet-dev.teco.edu/v1.0/\" + category_to_patch + \"('\" + entity_to_patch_id + \"')\" + query).text)\n",
    "loaded_data"
   ]
  },
  {
   "cell_type": "code",
   "execution_count": 12,
   "metadata": {},
   "outputs": [
    {
     "data": {
      "text/plain": [
       "{'dem_status': 'M',\n",
       " 'station_code': 'DEBY006',\n",
       " 'station_local_code': 'DEBY006',\n",
       " 'station_name': 'Augsburg/Königsplatz',\n",
       " 'station_start_date': 19750101,\n",
       " 'station_end_date': 'nan',\n",
       " 'station_latitude_d': 48.364589,\n",
       " 'station_latitude_dms': '+048.21.52',\n",
       " 'station_longitude_d': 10.895029,\n",
       " 'station_longitude_dms': '+010.53.42',\n",
       " 'station_altitude': 492.0,\n",
       " 'type_of_station': 'traffic',\n",
       " 'station_type_of_area': 'urban',\n",
       " 'station_ozone_classification': 'urban',\n",
       " 'station_subcat_rural_background': 'unknown',\n",
       " 'network_code': 'DE007A',\n",
       " 'operator_url': 'lfu.bayern.de',\n",
       " 'license': {'type': '', 'owner': 'Umweltbundesamt'}}"
      ]
     },
     "execution_count": 12,
     "metadata": {},
     "output_type": "execute_result"
    }
   ],
   "source": [
    "# loaded_data[\"properties\"][\"station_code\"]\n",
    "loaded_data[\"properties\"][\"license\"] = {\"type\": \"\", \"owner\": \"Umweltbundesamt\"}\n",
    "loaded_data[\"properties\"]"
   ]
  },
  {
   "cell_type": "code",
   "execution_count": 13,
   "metadata": {},
   "outputs": [
    {
     "name": "stdout",
     "output_type": "stream",
     "text": [
      "<Response [403]>\n"
     ]
    }
   ],
   "source": [
    "#what to patch?\n",
    "\n",
    "patch_what ={\"properties\": loaded_data[\"properties\"]}\n",
    "\n",
    "\n",
    "#send patch request\n",
    "resp_dev=requests.patch(\"http://smartaqnet-dev.teco.edu/v1.0/\" + category_to_patch + \"('\" + entity_to_patch_id + \"')\",json=patch_what)\n",
    "# resp=requests.patch(\"http://smartaqnet.teco.edu/v1.0/\" + category_to_patch + \"('\" + entity_to_patch_id + \"')\",json=patch_what)\n",
    "\n",
    "print(resp_dev)\n",
    "# print(resp)"
   ]
  },
  {
   "cell_type": "markdown",
   "metadata": {},
   "source": [
    "## Patching Locations for Workshop Nodes"
   ]
  },
  {
   "cell_type": "code",
   "execution_count": 11,
   "metadata": {},
   "outputs": [
    {
     "data": {
      "text/plain": [
       "{'location': {'type': 'Point', 'coordinates': [48.37616, 10.94464]},\n",
       " '@iot.id': 'geo:10.94,48.38,nan'}"
      ]
     },
     "execution_count": 11,
     "metadata": {},
     "output_type": "execute_result"
    }
   ],
   "source": [
    "#nr=11\n",
    "#a_location=json.loads(requests.get(\"http://smartaqnet.teco.edu/v1.0/Locations?$select=@iot.id,location\").text)[\"value\"][nr]\n",
    "#a_location\n",
    "\n",
    "a_location=json.loads(requests.get(\"https://smartaqnet.teco.edu/v1.0/Locations('geo%3A10.94%2C48.38%2Cnan')?$select=@iot.id,location\").text)\n",
    "a_location\n",
    "\n",
    "\n",
    "#breit ist das große, lang das kleine\n",
    "#im json muss das kleine zuerst: [lang, breit]"
   ]
  },
  {
   "cell_type": "code",
   "execution_count": 8,
   "metadata": {},
   "outputs": [],
   "source": [
    "breit=a_location[\"location\"][\"coordinates\"][0]\n",
    "lang=a_location[\"location\"][\"coordinates\"][1]"
   ]
  },
  {
   "cell_type": "code",
   "execution_count": 9,
   "metadata": {},
   "outputs": [
    {
     "data": {
      "text/plain": [
       "<Response [403]>"
      ]
     },
     "execution_count": 9,
     "metadata": {},
     "output_type": "execute_result"
    }
   ],
   "source": [
    "requests.patch(\"http://smartaqnet.teco.edu/v1.0/Locations('\" + a_location[\"@iot.id\"] + \"')\",json={\"location\": {\"type\": \"Point\", \"coordinates\": [lang,breit]}})"
   ]
  },
  {
   "cell_type": "code",
   "execution_count": 248,
   "metadata": {},
   "outputs": [
    {
     "data": {
      "text/plain": [
       "{'name': 'Tk',\n",
       " 'description': '',\n",
       " 'encodingType': 'application/vnd.geo+json',\n",
       " 'location': {'type': 'Point', 'coordinates': [-3.0, 45.0]},\n",
       " 'HistoricalLocations@iot.navigationLink': \"http://smartaqnet.teco.edu/v1.0/Locations('geo%3A-3.00%2C45.00%2Cnan')/HistoricalLocations\",\n",
       " 'Things@iot.navigationLink': \"http://smartaqnet.teco.edu/v1.0/Locations('geo%3A-3.00%2C45.00%2Cnan')/Things\",\n",
       " '@iot.id': 'geo:-3.00,45.00,nan',\n",
       " '@iot.selfLink': \"http://smartaqnet.teco.edu/v1.0/Locations('geo%3A-3.00%2C45.00%2Cnan')\"}"
      ]
     },
     "execution_count": 248,
     "metadata": {},
     "output_type": "execute_result"
    }
   ],
   "source": [
    "json.loads(requests.get(\"http://smartaqnet.teco.edu/v1.0/Locations('\" + str(a_location[\"@iot.id\"]) + \"')\").text)"
   ]
  },
  {
   "cell_type": "code",
   "execution_count": null,
   "metadata": {},
   "outputs": [],
   "source": []
  }
 ],
 "metadata": {
  "kernelspec": {
   "display_name": "Python 3",
   "language": "python",
   "name": "python3"
  },
  "language_info": {
   "codemirror_mode": {
    "name": "ipython",
    "version": 3
   },
   "file_extension": ".py",
   "mimetype": "text/x-python",
   "name": "python",
   "nbconvert_exporter": "python",
   "pygments_lexer": "ipython3",
   "version": "3.7.1"
  }
 },
 "nbformat": 4,
 "nbformat_minor": 2
}
