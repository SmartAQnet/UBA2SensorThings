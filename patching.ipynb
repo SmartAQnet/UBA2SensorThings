{
 "cells": [
  {
   "cell_type": "code",
   "execution_count": 1,
   "metadata": {},
   "outputs": [],
   "source": [
    "import requests, json\n",
    "import pandas as pd\n",
    "from pandas import ExcelWriter\n",
    "from pandas import ExcelFile\n",
    "import sys\n",
    "import time\n",
    "import requests, json\n",
    "import numpy as np\n",
    "import calendar\n",
    "from datetime import datetime\n",
    "import random\n",
    "import glob"
   ]
  },
  {
   "cell_type": "code",
   "execution_count": 2,
   "metadata": {},
   "outputs": [],
   "source": [
    "#converts numpy types to python types, otherwise json conversion produces an error. call json.dumps(***, cls=MyEncoder)\n",
    "class MyEncoder(json.JSONEncoder):\n",
    "    def default(self, obj):\n",
    "        if isinstance(obj, np.integer):\n",
    "            return int(obj)\n",
    "        elif isinstance(obj, np.floating):\n",
    "            return float(obj)\n",
    "        elif isinstance(obj, np.ndarray):\n",
    "            return obj.tolist()\n",
    "        else:\n",
    "            return super(MyEncoder, self).default(obj)\n",
    "\n",
    "\n",
    "# returns strings in the conventional format for iot.ids\n",
    "def idstr(idinput):\n",
    "    return(str(idinput).lower().replace(\" \", \"_\").replace(\"/\", \"_\").replace(\"ä\", \"ae\").replace(\"ö\", \"oe\").replace(\"ü\", \"ue\").replace(\"ß\", \"ss\"))\n",
    "\n",
    "\n",
    "# returns the first 7 digits of the sha1 hash of the input string\n",
    "def hashfunc(inputstring, printme):\n",
    "    returnhash= hashlib.sha1(bytes(str(inputstring), 'utf-8')).hexdigest()[0:7]\n",
    "    if printme == True:\n",
    "        print(\"Converting '\" + str(inputstring) + \"' to hash '\" + str(returnhash) +\"'\")\n",
    "    return(returnhash)\n",
    "\n",
    "#url=\"https://smartaqnet-dev.dmz.teco.edu/v1.0\"\n",
    "url=\"https://api.smartaq.net/v1.0/\""
   ]
  },
  {
   "cell_type": "code",
   "execution_count": 59,
   "metadata": {},
   "outputs": [],
   "source": [
    "#requests.delete(\"http://smartaqnet-dev.teco.edu:8080/FROST-Server/v1.0/Things\")\n",
    "#requests.delete(\"http://smartaqnet-dev.teco.edu:8080/FROST-Server/v1.0/Sensors\")\n",
    "#requests.delete(\"http://smartaqnet-dev.teco.edu:8080/FROST-Server/v1.0/Locations\")\n",
    "#requests.delete(\"http://smartaqnet-dev.teco.edu:8080/FROST-Server/v1.0/ObservedProperties\")\n",
    "#requests.delete(\"http://smartaqnet-dev.teco.edu:8080/FROST-Server/v1.0/FeaturesOfInterest\")\n",
    "#requests.delete(\"http://smartaqnet-dev.teco.edu:8080/FROST-Server/v1.0/Datastreams\")\n",
    "#requests.delete(\"http://smartaqnet-dev.teco.edu:8080/FROST-Server/v1.0/Observations\")"
   ]
  },
  {
   "cell_type": "code",
   "execution_count": 60,
   "metadata": {},
   "outputs": [
    {
     "data": {
      "text/plain": [
       "{'value': [{'@iot.id': 'saqn:t:87704c8'},\n",
       "  {'@iot.id': 'saqn:t:12b713d'},\n",
       "  {'@iot.id': 'saqn:t:b666034'},\n",
       "  {'@iot.id': 'saqn:t:4049564'},\n",
       "  {'@iot.id': 'saqn:t:d42cbb8'},\n",
       "  {'@iot.id': 'saqn:t:504a3c6'}]}"
      ]
     },
     "execution_count": 60,
     "metadata": {},
     "output_type": "execute_result"
    }
   ],
   "source": [
    "json.loads(requests.get(url + \"/Things?$filter=properties/operator_url%20eq%20%27lfu.bayern.de%27&$select=@iot.id\").text)"
   ]
  },
  {
   "cell_type": "markdown",
   "metadata": {},
   "source": [
    "## Patching Properties"
   ]
  },
  {
   "cell_type": "code",
   "execution_count": 82,
   "metadata": {},
   "outputs": [],
   "source": [
    "# Things, Datasteams, Locations, ...\n",
    "category_to_patch = \"/Things\"\n",
    "\n",
    "#saqn:...\n",
    "entity_to_patch_id = 'saqn:t:504a3c6'\n",
    "\n",
    "#optional get request for template on what to patch\n",
    "query = \"\"\n",
    "\n",
    "loaded_data = json.loads(requests.get(url + category_to_patch + \"('\" + entity_to_patch_id + \"')\" + query).text)\n",
    "loaded_data"
   ]
  },
  {
   "cell_type": "code",
   "execution_count": 84,
   "metadata": {},
   "outputs": [
    {
     "data": {
      "text/plain": [
       "{'dem_status': 'M',\n",
       " 'station_code': 'DEBY008',\n",
       " 'station_local_code': 'DEBY008',\n",
       " 'station_name': 'Augsburg/Haunstetten',\n",
       " 'station_start_date': 19750101,\n",
       " 'station_end_date': 20010331.0,\n",
       " 'station_latitude_d': 48.308269,\n",
       " 'station_latitude_dms': '+048.18.29',\n",
       " 'station_longitude_d': 10.907772999999999,\n",
       " 'station_longitude_dms': '+010.54.27',\n",
       " 'station_altitude': 502.0,\n",
       " 'type_of_station': 'background',\n",
       " 'station_type_of_area': 'suburban',\n",
       " 'station_ozone_classification': 'suburban',\n",
       " 'station_subcat_rural_background': 'unknown',\n",
       " 'network_code': 'DE007A',\n",
       " 'operator_url': 'lfu.bayern.de',\n",
       " 'license': {}}"
      ]
     },
     "execution_count": 84,
     "metadata": {},
     "output_type": "execute_result"
    }
   ],
   "source": [
    "# # loaded_data[\"properties\"][\"station_code\"]\n",
    "# foafagent = {\n",
    "#       \"@id\": \"https://www.umweltbundesamt.de/impressum\",\n",
    "#       \"@type\": \"foaf:Organization\",\n",
    "#       \"foaf:name\": \"Umweltbundesamt\"\n",
    "#     }\n",
    "# loaded_data[\"properties\"][\"license\"] = {\"dcatde:maintainer\": \"Umweltbundesamt\", \"foaf:agent\" : foafagent}\n",
    "# loaded_data[\"properties\"]\n",
    "loaded_data[\"properties\"][\"license\"] = {}\n",
    "loaded_data[\"properties\"]"
   ]
  },
  {
   "cell_type": "code",
   "execution_count": 85,
   "metadata": {},
   "outputs": [
    {
     "name": "stdout",
     "output_type": "stream",
     "text": [
      "<Response [200]>\n"
     ]
    }
   ],
   "source": [
    "#what to patch?\n",
    "\n",
    "patch_what ={\"properties\": loaded_data[\"properties\"]}\n",
    "\n",
    "\n",
    "#send patch request\n",
    "resp_dev=requests.patch(url + category_to_patch + \"('\" + entity_to_patch_id + \"')\",json=patch_what)\n",
    "# resp=requests.patch(\"http://smartaqnet.teco.edu/v1.0/\" + category_to_patch + \"('\" + entity_to_patch_id + \"')\",json=patch_what)\n",
    "\n",
    "print(resp_dev)\n",
    "# print(resp)"
   ]
  },
  {
   "cell_type": "markdown",
   "metadata": {},
   "source": [
    "## Patching Locations for Workshop Nodes"
   ]
  },
  {
   "cell_type": "code",
   "execution_count": 8,
   "metadata": {},
   "outputs": [
    {
     "data": {
      "text/plain": [
       "{'location': {'type': 'Point', 'coordinates': [48.37616, 10.94464]},\n",
       " '@iot.id': 'geo:10.94,48.38,nan'}"
      ]
     },
     "execution_count": 8,
     "metadata": {},
     "output_type": "execute_result"
    }
   ],
   "source": [
    "#nr=11\n",
    "#a_location=json.loads(requests.get(\"http://smartaqnet.teco.edu/v1.0/Locations?$select=@iot.id,location\").text)[\"value\"][nr]\n",
    "#a_location\n",
    "\n",
    "a_location=json.loads(requests.get(\"https://smartaqnet.teco.edu/v1.0/Locations('geo%3A10.94%2C48.38%2Cnan')?$select=@iot.id,location\").text)\n",
    "a_location\n",
    "\n",
    "\n",
    "#breit ist das große, lang das kleine\n",
    "#im json muss das kleine zuerst: [lang, breit]"
   ]
  },
  {
   "cell_type": "code",
   "execution_count": 5,
   "metadata": {},
   "outputs": [],
   "source": [
    "breit=a_location[\"location\"][\"coordinates\"][0]\n",
    "lang=a_location[\"location\"][\"coordinates\"][1]"
   ]
  },
  {
   "cell_type": "code",
   "execution_count": 6,
   "metadata": {},
   "outputs": [
    {
     "data": {
      "text/plain": [
       "<Response [403]>"
      ]
     },
     "execution_count": 6,
     "metadata": {},
     "output_type": "execute_result"
    }
   ],
   "source": [
    "requests.patch(\"http://smartaqnet.teco.edu/v1.0/Locations('\" + a_location[\"@iot.id\"] + \"')\",json={\"location\": {\"type\": \"Point\", \"coordinates\": [lang,breit]}})"
   ]
  },
  {
   "cell_type": "code",
   "execution_count": 7,
   "metadata": {},
   "outputs": [
    {
     "data": {
      "text/plain": [
       "{'name': 'WÃ¶rnitzstrasse 16, 86165 Augsburg ',\n",
       " 'description': '',\n",
       " 'encodingType': 'application/vnd.geo+json',\n",
       " 'location': {'type': 'Point', 'coordinates': [48.37616, 10.94464]},\n",
       " 'HistoricalLocations@iot.navigationLink': \"https://smartaqnet.teco.edu/v1.0/Locations('geo%3A10.94%2C48.38%2Cnan')/HistoricalLocations\",\n",
       " 'Things@iot.navigationLink': \"https://smartaqnet.teco.edu/v1.0/Locations('geo%3A10.94%2C48.38%2Cnan')/Things\",\n",
       " '@iot.id': 'geo:10.94,48.38,nan',\n",
       " '@iot.selfLink': \"https://smartaqnet.teco.edu/v1.0/Locations('geo%3A10.94%2C48.38%2Cnan')\"}"
      ]
     },
     "execution_count": 7,
     "metadata": {},
     "output_type": "execute_result"
    }
   ],
   "source": [
    "json.loads(requests.get(\"http://smartaqnet.teco.edu/v1.0/Locations('\" + str(a_location[\"@iot.id\"]) + \"')\").text)"
   ]
  },
  {
   "cell_type": "code",
   "execution_count": null,
   "metadata": {},
   "outputs": [],
   "source": []
  },
  {
   "cell_type": "code",
   "execution_count": null,
   "metadata": {},
   "outputs": [],
   "source": []
  },
  {
   "cell_type": "code",
   "execution_count": null,
   "metadata": {},
   "outputs": [],
   "source": []
  },
  {
   "cell_type": "code",
   "execution_count": null,
   "metadata": {},
   "outputs": [],
   "source": []
  },
  {
   "cell_type": "code",
   "execution_count": 38,
   "metadata": {},
   "outputs": [],
   "source": [
    "testthing = {'name': 'Testthing',\n",
    "            'description': 'thing for testing',\n",
    "             'properties': \n",
    "                 {\n",
    "                 'operator_url': 'www.smartaq.net', \n",
    "                 'license': {'03-2019': {'type': 'CCO', \n",
    "                                        'owner': 'schorsch',\n",
    "                                        'link': 'www.cc0.de'},\n",
    "                             '05-2019': {'type': 'CC1',\n",
    "                                         'owner': 'schorschsfrau',\n",
    "                                         'link': 'www.cc1.de'}\n",
    "                            },\n",
    "                'firmware_no': {'03-2019': 'v0.8',\n",
    "                                '06-2019': 'v0.9'},\n",
    "                 }\n",
    "            }"
   ]
  },
  {
   "cell_type": "code",
   "execution_count": 39,
   "metadata": {},
   "outputs": [
    {
     "data": {
      "text/plain": [
       "<Response [200]>"
      ]
     },
     "execution_count": 39,
     "metadata": {},
     "output_type": "execute_result"
    }
   ],
   "source": [
    "requests.patch(\"http://scratchpad.sensorup.com/OGCSensorThings/v1.0/Things(2666026)\", json=testthing)"
   ]
  },
  {
   "cell_type": "code",
   "execution_count": 11,
   "metadata": {},
   "outputs": [],
   "source": [
    "licenseupdate = "
   ]
  },
  {
   "cell_type": "code",
   "execution_count": 12,
   "metadata": {},
   "outputs": [
    {
     "data": {
      "text/plain": [
       "<Response [400]>"
      ]
     },
     "execution_count": 12,
     "metadata": {},
     "output_type": "execute_result"
    }
   ],
   "source": [
    "requests.post(\"https://smartaqnet-dev.dmz.teco.edu/v1.0/Things('saqn%3At%3Abuggabugga')/properties/license\", json=firmwareupdate)"
   ]
  },
  {
   "cell_type": "code",
   "execution_count": 15,
   "metadata": {},
   "outputs": [],
   "source": [
    "firmwareupdate = {'09-2019': 'v1.0'}"
   ]
  },
  {
   "cell_type": "code",
   "execution_count": 25,
   "metadata": {},
   "outputs": [
    {
     "data": {
      "text/plain": [
       "<Response [403]>"
      ]
     },
     "execution_count": 25,
     "metadata": {},
     "output_type": "execute_result"
    }
   ],
   "source": [
    "requests.patch(\"https://smartaqnet-dev.dmz.teco.edu/v1.0/Things('saqn%3At%3Abuggabugga')/properties/firmware_no\", json=firmwareupdate)"
   ]
  },
  {
   "cell_type": "code",
   "execution_count": 28,
   "metadata": {},
   "outputs": [],
   "source": [
    "testurl = \"https://scratchpad.sensorup.com/OGCSensorThings/v1.0/Things\""
   ]
  },
  {
   "cell_type": "code",
   "execution_count": null,
   "metadata": {},
   "outputs": [],
   "source": []
  },
  {
   "cell_type": "code",
   "execution_count": null,
   "metadata": {},
   "outputs": [],
   "source": []
  },
  {
   "cell_type": "code",
   "execution_count": null,
   "metadata": {},
   "outputs": [],
   "source": []
  },
  {
   "cell_type": "code",
   "execution_count": null,
   "metadata": {},
   "outputs": [],
   "source": []
  },
  {
   "cell_type": "code",
   "execution_count": null,
   "metadata": {},
   "outputs": [],
   "source": []
  },
  {
   "cell_type": "code",
   "execution_count": 23,
   "metadata": {},
   "outputs": [],
   "source": [
    "props  = json.loads(requests.get(\"https://smartaqnet-dev.dmz.teco.edu/v1.0/Things('saqn%3At%3A87704c8')/properties\").text)"
   ]
  },
  {
   "cell_type": "code",
   "execution_count": 24,
   "metadata": {},
   "outputs": [
    {
     "data": {
      "text/plain": [
       "<Response [200]>"
      ]
     },
     "execution_count": 24,
     "metadata": {},
     "output_type": "execute_result"
    }
   ],
   "source": [
    "requests.patch(\"https://smartaqnet-dev.dmz.teco.edu/v1.0/Things('saqn%3At%3A87704c8')\", json=props)"
   ]
  },
  {
   "cell_type": "code",
   "execution_count": 25,
   "metadata": {},
   "outputs": [],
   "source": [
    "props  = json.loads(requests.get(\"https://api.smartaq.net/v1.0/Things('saqn%3At%3A87704c8')/properties\").text)"
   ]
  },
  {
   "cell_type": "code",
   "execution_count": 26,
   "metadata": {},
   "outputs": [
    {
     "data": {
      "text/plain": [
       "<Response [403]>"
      ]
     },
     "execution_count": 26,
     "metadata": {},
     "output_type": "execute_result"
    }
   ],
   "source": [
    "requests.patch(\"https://api.smartaq.net/v1.0/Things('saqn%3At%3A87704c8')\", json=props)"
   ]
  },
  {
   "cell_type": "code",
   "execution_count": null,
   "metadata": {},
   "outputs": [],
   "source": []
  },
  {
   "cell_type": "code",
   "execution_count": 31,
   "metadata": {},
   "outputs": [],
   "source": [
    "dem={\"dem_status\": \"F\"}"
   ]
  },
  {
   "cell_type": "code",
   "execution_count": 32,
   "metadata": {},
   "outputs": [
    {
     "data": {
      "text/plain": [
       "{'dem_status': 'F'}"
      ]
     },
     "execution_count": 32,
     "metadata": {},
     "output_type": "execute_result"
    }
   ],
   "source": [
    "dem"
   ]
  },
  {
   "cell_type": "code",
   "execution_count": 36,
   "metadata": {},
   "outputs": [
    {
     "data": {
      "text/plain": [
       "<Response [400]>"
      ]
     },
     "execution_count": 36,
     "metadata": {},
     "output_type": "execute_result"
    }
   ],
   "source": [
    "requests.patch(\"https://smartaqnet-dev.dmz.teco.edu/v1.0/Things('saqn%3At%3A87704c8')/properties\", json=dem)"
   ]
  },
  {
   "cell_type": "markdown",
   "metadata": {},
   "source": [
    "# Creating Historical Locations"
   ]
  },
  {
   "cell_type": "code",
   "execution_count": 17,
   "metadata": {},
   "outputs": [
    {
     "data": {
      "text/plain": [
       "{'Locations@iot.navigationLink': \"https://api.smartaq.net/v1.0/Things('saqn%3At%3A504a3c6')/Locations\",\n",
       " 'Locations': [{'name': 'Location at latitude 48.308269 and longitude 10.907772999999999',\n",
       "   'description': 'located at Augsburg/Haunstetten',\n",
       "   'encodingType': 'application/vnd.geo+json',\n",
       "   'location': {'type': 'Point', 'coordinates': [10.907773, 48.308269, 502.0]},\n",
       "   '@iot.id': 'geo:48.308269,10.907772999999999,502.0',\n",
       "   '@iot.selfLink': \"https://api.smartaq.net/v1.0/Locations('geo%3A48.308269%2C10.907772999999999%2C502.0')\"}],\n",
       " 'HistoricalLocations@iot.navigationLink': \"https://api.smartaq.net/v1.0/Things('saqn%3At%3A504a3c6')/HistoricalLocations\",\n",
       " 'HistoricalLocations': [{'time': '2019-03-19T18:28:11.582Z',\n",
       "   '@iot.id': 'c0620682-4a74-11e9-a32c-2b8e026b3864',\n",
       "   '@iot.selfLink': \"https://api.smartaq.net/v1.0/HistoricalLocations('c0620682-4a74-11e9-a32c-2b8e026b3864')\"}]}"
      ]
     },
     "execution_count": 17,
     "metadata": {},
     "output_type": "execute_result"
    }
   ],
   "source": [
    "# Things, Datasteams, Locations, ...\n",
    "category_to_patch = \"/Things\"\n",
    "\n",
    "#saqn:...\n",
    "entity_to_patch_id = 'saqn:t:504a3c6'\n",
    "\n",
    "#optional get request for template on what to patch\n",
    "query = \"?$expand=HistoricalLocations,Locations&$select=HistoricalLocations,Locations\"\n",
    "\n",
    "loaded_data = json.loads(requests.get(url + category_to_patch + \"('\" + entity_to_patch_id + \"')\" + query).text)\n",
    "loaded_data"
   ]
  },
  {
   "cell_type": "code",
   "execution_count": 21,
   "metadata": {},
   "outputs": [
    {
     "data": {
      "text/plain": [
       "[{'time': '2019-03-19T18:28:11.582Z',\n",
       "  '@iot.id': 'c0620682-4a74-11e9-a32c-2b8e026b3864',\n",
       "  '@iot.selfLink': \"https://api.smartaq.net/v1.0/HistoricalLocations('c0620682-4a74-11e9-a32c-2b8e026b3864')\"}]"
      ]
     },
     "execution_count": 21,
     "metadata": {},
     "output_type": "execute_result"
    }
   ],
   "source": [
    "loaded_data[\"HistoricalLocations\"]"
   ]
  },
  {
   "cell_type": "code",
   "execution_count": 22,
   "metadata": {},
   "outputs": [],
   "source": [
    "test_hist_loc = {'time': '2019-03-19T18:28:15.000Z'}"
   ]
  },
  {
   "cell_type": "code",
   "execution_count": 23,
   "metadata": {},
   "outputs": [
    {
     "data": {
      "text/plain": [
       "<Response [400]>"
      ]
     },
     "execution_count": 23,
     "metadata": {},
     "output_type": "execute_result"
    }
   ],
   "source": [
    "requests.post(\"https://smartaqnet-dev.dmz.teco.edu/v1.0/HistoricalLocations\", json=json.dumps(test_hist_loc))"
   ]
  },
  {
   "cell_type": "code",
   "execution_count": 26,
   "metadata": {},
   "outputs": [],
   "source": [
    "hist_loc_new = json.loads(requests.get(\"https://smartaqnet-dev.dmz.teco.edu/v1.0/HistoricalLocations('4d333836-45c2-11e9-b79c-8fb22b87d068')\").text)"
   ]
  },
  {
   "cell_type": "code",
   "execution_count": 27,
   "metadata": {},
   "outputs": [
    {
     "data": {
      "text/plain": [
       "'2019-03-13T19:00:00.000Z'"
      ]
     },
     "execution_count": 27,
     "metadata": {},
     "output_type": "execute_result"
    }
   ],
   "source": [
    "hist_loc[0][\"time\"]"
   ]
  },
  {
   "cell_type": "code",
   "execution_count": 36,
   "metadata": {},
   "outputs": [],
   "source": [
    "hist_loc = json.loads(requests.get(\"https://smartaqnet-dev.dmz.teco.edu/v1.0/HistoricalLocations('4d333836-45c2-11e9-b79c-8fb22b87d068')\").text)"
   ]
  },
  {
   "cell_type": "code",
   "execution_count": 37,
   "metadata": {},
   "outputs": [
    {
     "data": {
      "text/plain": [
       "'2019-03-13T19:00:00.000Z'"
      ]
     },
     "execution_count": 37,
     "metadata": {},
     "output_type": "execute_result"
    }
   ],
   "source": [
    "print(hist_loc[\"time\"])"
   ]
  },
  {
   "cell_type": "code",
   "execution_count": null,
   "metadata": {},
   "outputs": [],
   "source": []
  },
  {
   "cell_type": "markdown",
   "metadata": {},
   "source": [
    "# Patching Historical Locations"
   ]
  },
  {
   "cell_type": "code",
   "execution_count": 1,
   "metadata": {},
   "outputs": [
    {
     "name": "stdout",
     "output_type": "stream",
     "text": [
      "2019-03-13T19:00:43.268Z\n",
      "2019-03-13T19:00:00.000Z\n",
      "2019-03-13T19:00:43.268Z\n"
     ]
    }
   ],
   "source": [
    "import requests, json\n",
    "\n",
    "#example historical location\n",
    "hist_loc_id = '4d333836-45c2-11e9-b79c-8fb22b87d068'\n",
    "\n",
    "#the original time\n",
    "old_hist_loc_time = {\"time\": str(json.loads(requests.get(\"https://smartaqnet-dev.dmz.teco.edu/v1.0/HistoricalLocations('\" + hist_loc_id + \"')\").text)[\"time\"])}\n",
    "print(old_hist_loc_time[\"time\"])\n",
    "\n",
    "#define and patch new time and check server if it accepted the new time\n",
    "new_hist_loc_time = {\"time\": '2019-03-13T19:00:00.000Z'}\n",
    "requests.patch(\"https://smartaqnet-dev.dmz.teco.edu/v1.0/HistoricalLocations('\" + hist_loc_id + \"')\", json=new_hist_loc_time)\n",
    "print(json.loads(requests.get(\"https://smartaqnet-dev.dmz.teco.edu/v1.0/HistoricalLocations('\" + hist_loc_id + \"')\").text)[\"time\"])\n",
    "\n",
    "#patch old time and check if server accepted\n",
    "requests.patch(\"https://smartaqnet-dev.dmz.teco.edu/v1.0/HistoricalLocations('\" + hist_loc_id + \"')\", json=old_hist_loc_time)\n",
    "print(json.loads(requests.get(\"https://smartaqnet-dev.dmz.teco.edu/v1.0/HistoricalLocations('\" + hist_loc_id + \"')\").text)[\"time\"])"
   ]
  },
  {
   "cell_type": "code",
   "execution_count": null,
   "metadata": {},
   "outputs": [],
   "source": []
  }
 ],
 "metadata": {
  "kernelspec": {
   "display_name": "Python 3",
   "language": "python",
   "name": "python3"
  },
  "language_info": {
   "codemirror_mode": {
    "name": "ipython",
    "version": 3
   },
   "file_extension": ".py",
   "mimetype": "text/x-python",
   "name": "python",
   "nbconvert_exporter": "python",
   "pygments_lexer": "ipython3",
   "version": "3.7.1"
  }
 },
 "nbformat": 4,
 "nbformat_minor": 2
}
