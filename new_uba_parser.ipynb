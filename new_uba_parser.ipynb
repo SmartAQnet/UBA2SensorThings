{
 "cells": [
  {
   "cell_type": "code",
   "execution_count": 15,
   "metadata": {},
   "outputs": [],
   "source": [
    "import requests, json\n",
    "from datetime import datetime\n",
    "import re\n",
    "import pandas as pd\n",
    "import hashlib\n",
    "import sys"
   ]
  },
  {
   "cell_type": "code",
   "execution_count": 16,
   "metadata": {},
   "outputs": [],
   "source": [
    "# function that takes two lists of same length and makes a dict of them, identifying element i with element i\n",
    "def stitch_to_dict(a,b):\n",
    "    r={}\n",
    "    for i in range(len(a)):\n",
    "        r[a[i]]=b[i]\n",
    "    return r\n",
    "\n",
    "# everything lowercase, replaces slashes and spaces with underscores, ...\n",
    "def idstr(idinput):\n",
    "    \"\"\"returns strings in the conventional format for iot.ids\"\"\"\n",
    "    return (str(idinput).lower().replace(\" \", \"_\").replace(\"/\", \"_\").replace(\n",
    "        \"ä\", \"ae\").replace(\"ö\", \"oe\").replace(\"ü\", \"ue\").replace(\"ß\", \"ss\"))\n",
    "\n",
    "# returns the first 7 digits of the sha1 hash of the input string\n",
    "def hashfunc(inputstring):\n",
    "    return hashlib.sha1(bytes(str(inputstring), 'utf-8')).hexdigest()[0:7]\n",
    "\n",
    "# returns the full 40 digits of the sha1 hash of the input string\n",
    "def hashfuncfull(inputstring):\n",
    "    return hashlib.sha1(bytes(str(inputstring), 'utf-8')).hexdigest()\n",
    "\n",
    "# UBA has phenomenonTimes end with hour 24 instead of 0 the next day. datetime cant deal with that, have to replace\n",
    "def todatetimeUTCstring(string):\n",
    "    if(string[-8:-6] == '24'):\n",
    "        res=pd.to_datetime(string.replace(\" 24:\",\" 23:\"))+pd.Timedelta('1 hour')\n",
    "    else: \n",
    "        res=pd.to_datetime(string)\n",
    "    return (res - pd.Timedelta('1 hour')).strftime(\"%Y-%m-%d\" + \"T\" + \"%H\" + \":00:00.000Z\")\n",
    "\n",
    "\n",
    "\n",
    "url = \"http://193.196.38.108:8080/FROST-Server/v1.0\"\n",
    "#url = \"http://api.smartaq.net/v1.0\""
   ]
  },
  {
   "cell_type": "code",
   "execution_count": 17,
   "metadata": {},
   "outputs": [],
   "source": [
    "file = pd.read_excel('metadata/Bericht_EU_Meta_Stationen.xlsx')\n",
    "filemeta=pd.read_excel('metadata/Bericht_EU_Meta_Stationsparameter.xlsx')"
   ]
  },
  {
   "cell_type": "markdown",
   "metadata": {},
   "source": [
    "# Metadata Info"
   ]
  },
  {
   "cell_type": "code",
   "execution_count": 18,
   "metadata": {},
   "outputs": [
    {
     "data": {
      "text/plain": [
       "{'count': 5,\n",
       " 'indices': ['component id',\n",
       "  'component code',\n",
       "  'component symbol',\n",
       "  'component unit',\n",
       "  'component name'],\n",
       " '1': ['1', 'PM10', 'PM₁₀', 'µg/m³', 'Particulate matter'],\n",
       " '2': ['2', 'CO', 'CO', 'mg/m³', 'Carbon monoxide'],\n",
       " '3': ['3', 'O3', 'O₃', 'µg/m³', 'Ozone'],\n",
       " '4': ['4', 'SO2', 'SO₂', 'µg/m³', 'Sulphur dioxide'],\n",
       " '5': ['5', 'NO2', 'NO₂', 'µg/m³', 'Nitrogen dioxide']}"
      ]
     },
     "execution_count": 18,
     "metadata": {},
     "output_type": "execute_result"
    }
   ],
   "source": [
    "# https://www.umweltbundesamt.de/daten/luft/luftdaten/doc\n",
    "\n",
    "component_data=json.loads(requests.get(\"https://www.umweltbundesamt.de/api/air_data/v2/components/json\").text)\n",
    "component_data"
   ]
  },
  {
   "cell_type": "code",
   "execution_count": 19,
   "metadata": {},
   "outputs": [
    {
     "data": {
      "text/plain": [
       "{'count': 6,\n",
       " 'indices': ['scope id',\n",
       "  'scope code',\n",
       "  'scope time base',\n",
       "  'scope time scope',\n",
       "  'scope time is max',\n",
       "  'scope name'],\n",
       " '1': ['1', '1TMW', 'day', '86400', '0', 'Daily average'],\n",
       " '2': ['2', '1SMW', 'hour', '3600', '0', 'One hour average'],\n",
       " '3': ['3', '1SMW_MAX', 'hour', '3600', '1', 'Maximum one hour average'],\n",
       " '4': ['4', '8SMW', 'hour', '28800', '0', 'Eight hour average'],\n",
       " '5': ['5', '8SMW_MAX', 'hour', '28800', '1', 'Maximum eight hour average'],\n",
       " '6': ['6', '1TMWGL', 'hour', '3600', '0', 'floating hourly daily average']}"
      ]
     },
     "execution_count": 19,
     "metadata": {},
     "output_type": "execute_result"
    }
   ],
   "source": [
    "scope_data=json.loads(requests.get(\"https://www.umweltbundesamt.de/api/air_data/v2/scopes/json\").text)\n",
    "scope_data"
   ]
  },
  {
   "cell_type": "code",
   "execution_count": 20,
   "metadata": {},
   "outputs": [],
   "source": [
    "station_data=json.loads(requests.get(\"https://www.umweltbundesamt.de/api/air_data/v2/stations/json\").text)"
   ]
  },
  {
   "cell_type": "markdown",
   "metadata": {},
   "source": [
    "# Data"
   ]
  },
  {
   "cell_type": "code",
   "execution_count": 21,
   "metadata": {},
   "outputs": [
    {
     "name": "stdout",
     "output_type": "stream",
     "text": [
      "5 Stations to parse.\n"
     ]
    },
    {
     "data": {
      "text/plain": [
       "{'station id': '441',\n",
       " 'station code': 'DEBY007',\n",
       " 'station name': 'Augsburg/Bourges-Platz',\n",
       " 'station city': 'Augsburg',\n",
       " 'station synonym': '',\n",
       " 'station active from': '1986-08-01',\n",
       " 'station active to': None,\n",
       " 'station longitude': '10.8884',\n",
       " 'station latitude': '48.3766',\n",
       " 'network id': '2',\n",
       " 'station setting id': '1',\n",
       " 'station type id': '1',\n",
       " 'network code': 'BY',\n",
       " 'network name': 'Bavaria',\n",
       " 'station setting name': 'urban area',\n",
       " 'station setting short name': 'urban',\n",
       " 'station type name': 'background'}"
      ]
     },
     "execution_count": 21,
     "metadata": {},
     "output_type": "execute_result"
    }
   ],
   "source": [
    "stations_to_parse = []\n",
    "for thisstatnr in station_data[\"data\"].keys():\n",
    "    thisstatdict = stitch_to_dict(station_data[\"indices\"],station_data[\"data\"][thisstatnr])\n",
    "    if(thisstatdict[\"station city\"] == \"Augsburg\"):\n",
    "        stations_to_parse.append(thisstatdict)\n",
    "\n",
    "print(str(len(stations_to_parse)) + \" Stations to parse.\")\n",
    "current_station=stations_to_parse[0] #nr 2 dbs augsburg hat keine informationen zum sensor im metadatensheet. bisher nicht geparsed. \n",
    "current_station"
   ]
  },
  {
   "cell_type": "markdown",
   "metadata": {},
   "source": [
    "## Observed Property"
   ]
  },
  {
   "cell_type": "code",
   "execution_count": 22,
   "metadata": {},
   "outputs": [
    {
     "data": {
      "text/plain": [
       "{'component id': '1',\n",
       " 'component code': 'PM10',\n",
       " 'component symbol': 'PM₁₀',\n",
       " 'component unit': 'µg/m³',\n",
       " 'component name': 'Particulate matter'}"
      ]
     },
     "execution_count": 22,
     "metadata": {},
     "output_type": "execute_result"
    }
   ],
   "source": [
    "current_component = \"1\"\n",
    "current_obsprop_meta_dict = stitch_to_dict(component_data[\"indices\"],component_data[current_component])\n",
    "current_obsprop_meta_dict"
   ]
  },
  {
   "cell_type": "code",
   "execution_count": 23,
   "metadata": {},
   "outputs": [
    {
     "data": {
      "text/plain": [
       "{'name': 'PM10 Mass Concetration',\n",
       " 'description': 'Mass concentration of Particulate Matter with a diameter of equal or less than 10 micrometers in air.',\n",
       " 'properties': {'shortname': 'mcpm10'},\n",
       " 'Datastreams@iot.navigationLink': \"http://193.196.38.108:8080/FROST-Server/v1.0/ObservedProperties('saqn%3Aop%3Amcpm10')/Datastreams\",\n",
       " 'MultiDatastreams@iot.navigationLink': \"http://193.196.38.108:8080/FROST-Server/v1.0/ObservedProperties('saqn%3Aop%3Amcpm10')/MultiDatastreams\",\n",
       " 'definition': 'http://cfconventions.org/Data/cf-standard-names/63/build/cf-standard-name-table.html#mass_concentration_of_pm10_ambient_aerosol_particles_in_air',\n",
       " '@iot.id': 'saqn:op:mcpm10',\n",
       " '@iot.selfLink': \"http://193.196.38.108:8080/FROST-Server/v1.0/ObservedProperties('saqn%3Aop%3Amcpm10')\"}"
      ]
     },
     "execution_count": 23,
     "metadata": {},
     "output_type": "execute_result"
    }
   ],
   "source": [
    "current_obsprop = json.loads(requests.get(url + \"/ObservedProperties('saqn:op:mcpm10')\").text)\n",
    "\n",
    "current_obsprop"
   ]
  },
  {
   "cell_type": "markdown",
   "metadata": {},
   "source": [
    "# Parser start"
   ]
  },
  {
   "cell_type": "markdown",
   "metadata": {},
   "source": [
    "## Thing"
   ]
  },
  {
   "cell_type": "code",
   "execution_count": 24,
   "metadata": {},
   "outputs": [
    {
     "name": "stdout",
     "output_type": "stream",
     "text": [
      "{'name': 'Station Augsburg/Bourges-Platz', 'description': '', 'properties': {'operator.domain': 'umweltbundesamt.de', 'hardware.id': 'deby007', 'station_active_from': '1986-08-01', 'station_active_to': None, 'station_setting_name': 'urban area', 'station type name': 'background', 'station_no': '441', 'shortname': 'station_augsburg_bourges-platz'}, '@iot.id': 'saqn:t:umweltbundesamt.de:station_augsburg_bourges-platz:deby007'}\n"
     ]
    },
    {
     "data": {
      "text/plain": [
       "<Response [500]>"
      ]
     },
     "execution_count": 24,
     "metadata": {},
     "output_type": "execute_result"
    }
   ],
   "source": [
    "current_station_thing = {\n",
    "    \"name\": \"Station \" + current_station[\"station name\"], \n",
    "    \"description\": \"\",\n",
    "    \"properties\": {\n",
    "        \"operator.domain\": idstr(\"umweltbundesamt.de\"),\n",
    "        \"hardware.id\": idstr(current_station[\"station code\"]),\n",
    "        \"station_active_from\": current_station[\"station active from\"],\n",
    "        \"station_active_to\": current_station[\"station active to\"],\n",
    "        'station_setting_name': current_station['station setting name'],\n",
    "        'station type name': current_station['station type name'],\n",
    "        'station_no': current_station['station id']\n",
    "    }\n",
    "}\n",
    "current_station_thing[\"properties\"][\"shortname\"] = idstr(current_station_thing[\"name\"])\n",
    "\n",
    "current_thing_idparts = current_station_thing[\"properties\"][\"operator.domain\"] + \":\" + current_station_thing[\"properties\"][\"shortname\"] + \":\" + current_station_thing[\"properties\"][\"hardware.id\"]\n",
    "current_station_thing [\"@iot.id\"] = \"saqn:t:\" + current_thing_idparts\n",
    "\n",
    "print(current_station_thing)\n",
    "\n",
    "requests.post(url + \"/Things\",json=current_station_thing)"
   ]
  },
  {
   "cell_type": "markdown",
   "metadata": {},
   "source": [
    "## (Historical) Location"
   ]
  },
  {
   "cell_type": "code",
   "execution_count": 25,
   "metadata": {},
   "outputs": [
    {
     "name": "stdout",
     "output_type": "stream",
     "text": [
      "{'time': '1986-08-01T00:00:00.000Z', 'Locations': [{'name': 'Augsburg/Bourges-Platz', 'description': 'Bavaria, urban area, background', 'encodingType': 'application/vnd.geo+json', 'location': {'type': 'Point', 'coordinates': [10.8884, 48.3766]}, '@iot.id': 'geo:48.3766:10.8884'}], '@iot.id': 'saqn:hl:umweltbundesamt.de:station_augsburg_bourges-platz:deby007:1986-08-01T00:00:00.000Z'}\n",
      "Error: 500\n",
      "b'{\\n  \"code\" : 500,\\n  \"type\" : \"error\",\\n  \"message\" : \"Failed to store data.\"\\n}'\n"
     ]
    }
   ],
   "source": [
    "current_station_historical_location = {\n",
    "    \"time\": current_station[\"station active from\"] + \"T00:00:00.000Z\",\n",
    "    \"Locations\": [{\n",
    "        \"name\": current_station[\"station name\"],\n",
    "        \"description\": current_station[\"network name\"] + \", \" + current_station[\"station setting name\"] + \", \" + current_station[\"station type name\"],\n",
    "        \"encodingType\": \"application/vnd.geo+json\",\n",
    "        \"location\": {\n",
    "            \"type\": \"Point\",\n",
    "            \"coordinates\": [float(current_station[\"station longitude\"]),float(current_station[\"station latitude\"])]\n",
    "        },\n",
    "        \"@iot.id\": \"geo:\" + str(current_station[\"station latitude\"]) + \":\" + str(current_station[\"station longitude\"])\n",
    "    }]\n",
    "}\n",
    "\n",
    "current_station_historical_location[\"@iot.id\"] = \"saqn:hl:\" + current_thing_idparts + \":\" + current_station_historical_location[\"time\"]\n",
    "\n",
    "print(current_station_historical_location)\n",
    "\n",
    "p = requests.post(url + \"/Things('\" + current_station_thing[\"@iot.id\"] + \"')/HistoricalLocations\",json=current_station_historical_location)\n",
    "\n",
    "if (p.status_code  == 201):\n",
    "    print(\"Creation successful\")\n",
    "else:\n",
    "    print(\"Error:\", p.status_code)\n",
    "    for chunk in p.iter_content(chunk_size=128):\n",
    "        print(chunk)"
   ]
  },
  {
   "cell_type": "markdown",
   "metadata": {},
   "source": [
    "## Sensor"
   ]
  },
  {
   "cell_type": "markdown",
   "metadata": {},
   "source": [
    "### Sensor not in API, need to parse file"
   ]
  },
  {
   "cell_type": "code",
   "execution_count": 26,
   "metadata": {},
   "outputs": [
    {
     "name": "stdout",
     "output_type": "stream",
     "text": [
      "{'name': 'Generic nephelometry and beta attenuation Sensor', 'description': 'Sensor Instance for unknown Sensors that use nephelometry and beta attenuation as measurement technique principle', 'encodingType': 'application/json', 'properties': {'datasheet.url': '', 'manufacturer.domain': '', 'shortname': 'generic_nephelometry_and_beta_attenuation_sensor'}, '@iot.id': 'saqn:s::generic_nephelometry_and_beta_attenuation_sensor', 'metadata': \"http://193.196.38.108:8080/FROST-Server/v1.0/Sensors('saqn:s::generic_nephelometry_and_beta_attenuation_sensor')/properties\"}\n",
      "Error: 500\n",
      "b'{\\n  \"code\" : 500,\\n  \"type\" : \"error\",\\n  \"message\" : \"Failed to store data.\"\\n}'\n"
     ]
    },
    {
     "name": "stderr",
     "output_type": "stream",
     "text": [
      "C:\\ProgramData\\Anaconda3\\lib\\site-packages\\ipykernel_launcher.py:3: UserWarning: Boolean Series key will be reindexed to match DataFrame index.\n",
      "  This is separate from the ipykernel package so we can avoid doing imports until\n"
     ]
    }
   ],
   "source": [
    "# in file, component code 5.0 is PM10\n",
    "\n",
    "mtp = filemeta[filemeta[\"station_code\"]==current_station[\"station code\"]][filemeta[\"component_code\"]==5.0][\"measurement_technique_principle\"].values[0]\n",
    "\n",
    "current_sensor = {\n",
    "    \"name\": \"Generic \" + mtp + \" Sensor\",\n",
    "    \"description\": \"Sensor Instance for unknown Sensors that use \" + mtp + \" as measurement technique principle\",\n",
    "    \"encodingType\": \"application/json\",\n",
    "    \"properties\": {\n",
    "        \"datasheet.url\": \"\",\n",
    "        \"manufacturer.domain\": \"\"\n",
    "    }\n",
    "\n",
    "}\n",
    "current_sensor[\"properties\"][\"shortname\"] = idstr(current_sensor[\"name\"])\n",
    "\n",
    "current_sensor_idparts = current_sensor[\"properties\"][\"manufacturer.domain\"] + \":\" + current_sensor[\"properties\"][\"shortname\"]\n",
    "current_sensor[\"@iot.id\"] = \"saqn:s:\" + current_sensor_idparts\n",
    "current_sensor[\"metadata\"] = url + \"/Sensors('\" + current_sensor[\"@iot.id\"] + \"')/properties\"\n",
    "\n",
    "print(current_sensor)\n",
    "\n",
    "p = requests.post(url + \"/Sensors\",json=current_sensor)\n",
    "\n",
    "if (p.status_code  == 201):\n",
    "    print(\"Creation successful\")\n",
    "else:\n",
    "    print(\"Error:\", p.status_code)\n",
    "    for chunk in p.iter_content(chunk_size=128):\n",
    "        print(chunk)"
   ]
  },
  {
   "cell_type": "markdown",
   "metadata": {},
   "source": [
    "## Datastream"
   ]
  },
  {
   "cell_type": "code",
   "execution_count": 27,
   "metadata": {},
   "outputs": [
    {
     "name": "stdout",
     "output_type": "stream",
     "text": [
      "{'name': \"PM10 Mass Concetration Measurements of Umweltbundesamt's Station Augsburg/Bourges-Platz\", 'description': 'Datastream for Particulate matter', 'unitOfMeasurement': {'name': 'Microgram per Cubic Meter', 'symbol': 'ug/m3', 'definition': 'http://unitsofmeasure.org/ucum.html'}, 'observationType': 'http://www.opengis.net/def/observationType/OGC-OM/2.0/OM_Measurement', 'properties': {'operator.domain': 'umweltbundesamt.de', 'hardware.serial_number': '', 'license': {'name': 'CC BY-NC-ND 4.0', 'legal_notice': 'https://www.umweltbundesamt.de/datenschutz-haftung', 'url': 'https://creativecommons.org/licenses/by-nc-nd/4.0/'}}, 'ObservedProperty': {'@iot.id': 'saqn:op:mcpm10'}, 'Sensor': {'@iot.id': 'saqn:s::generic_nephelometry_and_beta_attenuation_sensor'}, 'Thing': {'@iot.id': 'saqn:t:umweltbundesamt.de:station_augsburg_bourges-platz:deby007'}, '@iot.id': 'saqn:ds:d7fbdb6'}\n",
      "Error: 500\n",
      "b'{\\n  \"code\" : 500,\\n  \"type\" : \"error\",\\n  \"message\" : \"Failed to store data.\"\\n}'\n"
     ]
    }
   ],
   "source": [
    "current_datastream = {\n",
    "    \"name\": current_obsprop[\"name\"] + \" Measurements of Umweltbundesamt's \" + current_station_thing[\"name\"],\n",
    "    \"description\": \"Datastream for \" + current_obsprop_meta_dict[\"component name\"],\n",
    "    \"unitOfMeasurement\": {\n",
    "        \"name\": \"Microgram per Cubic Meter\", \n",
    "        \"symbol\": \"ug/m3\",\n",
    "        \"definition\": \"http://unitsofmeasure.org/ucum.html\"\n",
    "    },\n",
    "    \"observationType\": \"http://www.opengis.net/def/observationType/OGC-OM/2.0/OM_Measurement\",\n",
    "    \"properties\": {\n",
    "        \"operator.domain\": \"umweltbundesamt.de\",\n",
    "        \"hardware.serial_number\": \"\",\n",
    "        \"license\": {\n",
    "            \"name\": \"CC BY-NC-ND 4.0\",\n",
    "            \"legal_notice\": \"https://www.umweltbundesamt.de/datenschutz-haftung\",\n",
    "            \"url\": \"https://creativecommons.org/licenses/by-nc-nd/4.0/\"\n",
    "        }\n",
    "    },\n",
    "    \"ObservedProperty\": {\"@iot.id\": current_obsprop[\"@iot.id\"]},\n",
    "    \"Sensor\": {\"@iot.id\": current_sensor[\"@iot.id\"]},\n",
    "    \"Thing\": {\"@iot.id\": current_station_thing[\"@iot.id\"]},\n",
    "}\n",
    "\n",
    "current_datastream_idparts = current_thing_idparts + \":\" + current_sensor_idparts + \":\" + current_datastream[\"properties\"][\"hardware.serial_number\"] + \":\" + current_obsprop[\"properties\"][\"shortname\"]\n",
    "\n",
    "current_datastream[\"@iot.id\"] = \"saqn:ds:\" + hashfunc(current_datastream_idparts)\n",
    "\n",
    "print(current_datastream)\n",
    "\n",
    "p = requests.post(url + \"/Things('\" + current_station_thing[\"@iot.id\"] + \"')/Datastreams\",json=current_datastream)\n",
    "\n",
    "if (p.status_code  == 201):\n",
    "    print(\"Creation successful\")\n",
    "else:\n",
    "    print(\"Error:\", p.status_code)\n",
    "    for chunk in p.iter_content(chunk_size=128):\n",
    "        print(chunk)"
   ]
  },
  {
   "cell_type": "markdown",
   "metadata": {},
   "source": [
    "## Observations"
   ]
  },
  {
   "cell_type": "code",
   "execution_count": 28,
   "metadata": {},
   "outputs": [],
   "source": [
    "current_scope = \"2\" #hourly averages\n",
    "\n",
    "start_date=current_station[\"station active from\"]\n",
    "start_result_time=\"1\"\n",
    "end_date=datetime.strftime(datetime.now(),\"%Y-%m-%d\")\n",
    "end_result_time=datetime.strftime(datetime.now(),\"%H\")\n",
    "\n",
    "data=json.loads(requests.get(\"https://www.umweltbundesamt.de/api/air_data/v2/measures/json?date_from=\" + start_date + \"&time_from=\" + start_result_time + \"&date_to=\" + end_date + \"&time_to=\" + end_result_time + \"&station=\" + current_station[\"station id\"] + \"&component=\" + current_component + \"&scope=\" + current_scope).text)\n",
    "\n",
    "val_index=data[\"indices\"][\"data\"][\"station id\"][\"date start\"].index(\"value\")\n",
    "end_index=data[\"indices\"][\"data\"][\"station id\"][\"date start\"].index(\"date end\")\n",
    "\n",
    "#function todatetimeUTCstring converts to pandas datetime, converts CET to UTC, then outputs ISO string\n",
    "list_of_results=list(map(lambda x: {\"result\":data['data'][current_station[\"station id\"]][x][val_index],\"resultTime\":todatetimeUTCstring(data['data'][current_station[\"station id\"]][x][end_index]) ,\"phenomenonTime\": todatetimeUTCstring(x) + \"/\" + todatetimeUTCstring(data['data'][current_station[\"station id\"]][x][end_index])},data['data'][current_station[\"station id\"]].keys()))"
   ]
  },
  {
   "cell_type": "code",
   "execution_count": 29,
   "metadata": {},
   "outputs": [
    {
     "name": "stdout",
     "output_type": "stream",
     "text": [
      "6278 out of 6710 could not be created.\n",
      "Datastream has now 6710 Observations.\n"
     ]
    }
   ],
   "source": [
    "fails = 0\n",
    "totalobs = len(list_of_results)\n",
    "\n",
    "for thisresult in list_of_results:\n",
    "    thisobs = thisresult\n",
    "    thisobs[\"@iot.id\"] = \"saqn:o:\" + hashfuncfull(current_datastream_idparts + \":\" + idstr(thisresult[\"phenomenonTime\"]))\n",
    "    p = requests.post(url + \"/Datastreams('\" + current_datastream[\"@iot.id\"]  + \"')/Observations\",json.dumps(thisobs))\n",
    "    if (p.status_code  != 201):\n",
    "        fails += 1\n",
    "    sys.stdout.write(\"Writing \" + str(list_of_results.index(thisresult)) + \" out of \" + str(totalobs) + \"\\r\")\n",
    "print(str(fails) + \" out of \" + str(totalobs) + \" could not be created.\")\n",
    "print(\"Datastream has now \" + str(json.loads(requests.get(url + \"/Datastreams('\" + current_datastream[\"@iot.id\"]  + \"')/Observations?$count=true\").text)[\"@iot.count\"]) + \" Observations.\")"
   ]
  }
 ],
 "metadata": {
  "kernelspec": {
   "display_name": "Python 3",
   "language": "python",
   "name": "python3"
  },
  "language_info": {
   "codemirror_mode": {
    "name": "ipython",
    "version": 3
   },
   "file_extension": ".py",
   "mimetype": "text/x-python",
   "name": "python",
   "nbconvert_exporter": "python",
   "pygments_lexer": "ipython3",
   "version": "3.7.1"
  }
 },
 "nbformat": 4,
 "nbformat_minor": 2
}
