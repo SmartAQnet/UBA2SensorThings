{
 "cells": [
  {
   "cell_type": "code",
   "execution_count": 29,
   "metadata": {},
   "outputs": [
    {
     "data": {
      "text/plain": [
       "226"
      ]
     },
     "execution_count": 29,
     "metadata": {},
     "output_type": "execute_result"
    }
   ],
   "source": [
    "import json\n",
    "\n",
    "file=open('config.txt','w')\n",
    "configuration={}\n",
    "\n",
    "configuration[\"url\"] = \"http://smartaqnet-dev.teco.edu:8080/FROST-Server/v1.0/\"\n",
    "configuration[\"thingcode\"] = \"DEBY007\"\n",
    "configuration[\"feature\"] = \"PM10\"\n",
    "configuration[\"intervalllength\"] = \"PT1H\"\n",
    "configuration[\"runparseaftermodelling\"] = True\n",
    "configuration[\"starttime\"] = False #in case of false will try to find the earliest date of a measurement\n",
    "configuration[\"endtime\"] = '2018-12-31T23:59:00.000Z' #in case of false will take utctime.now()\n",
    "#time format is ISO8601 time standard UTC, e.g.: '2018-12-31T23:59:00.000Z'\n",
    "\n",
    "configfile=json.dumps(configuration)\n",
    "file.write(configfile)"
   ]
  },
  {
   "cell_type": "code",
   "execution_count": null,
   "metadata": {},
   "outputs": [],
   "source": []
  }
 ],
 "metadata": {
  "kernelspec": {
   "display_name": "Python 3",
   "language": "python",
   "name": "python3"
  },
  "language_info": {
   "codemirror_mode": {
    "name": "ipython",
    "version": 3
   },
   "file_extension": ".py",
   "mimetype": "text/x-python",
   "name": "python",
   "nbconvert_exporter": "python",
   "pygments_lexer": "ipython3",
   "version": "3.7.1"
  }
 },
 "nbformat": 4,
 "nbformat_minor": 2
}
